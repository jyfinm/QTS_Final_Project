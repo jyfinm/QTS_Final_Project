{
 "cells": [
  {
   "cell_type": "code",
   "execution_count": 1,
   "id": "f861f06d-d257-438b-9b04-3d1c7340958d",
   "metadata": {},
   "outputs": [],
   "source": [
    "import sys\n",
    "import math\n",
    "import warnings\n",
    "\n",
    "import psycopg2\n",
    "import wrds\n",
    "import gzip\n",
    "\n",
    "import seaborn as sns\n",
    "import os\n",
    "import quandl\n",
    "import json\n",
    "import zipfile\n",
    "import matplotlib.pyplot as plt\n",
    "import matplotlib.dates as mdates\n",
    "\n",
    "import functools\n",
    "import requests\n",
    "import io\n",
    "\n",
    "import urllib.request\n",
    "from urllib.error import HTTPError\n",
    "# from html_table_parser.parser import HTMLTableParser\n",
    "import re\n",
    "\n",
    "import plotnine as p9\n",
    "from plotnine import ggplot, scale_x_date, guides, guide_legend, geom_bar, scale_y_continuous, \\\n",
    "    scale_color_identity, geom_line, geom_point, labs, theme_minimal, theme, element_blank, element_text, \\\n",
    "        geom_ribbon, geom_hline, aes, scale_size_manual, scale_color_manual, ggtitle\n",
    "\n",
    "from datetime import datetime\n",
    "import datetime\n",
    "\n",
    "import pandas as pd\n",
    "# import pandas_market_calendars as mcal\n",
    "from pandas.plotting import autocorrelation_plot\n",
    "import numpy as np\n",
    "from numpy import cumsum, log, polyfit, sqrt, std, subtract\n",
    "import scipy as sp\n",
    "from scipy.stats import norm\n",
    "import scipy.stats as stats\n",
    "\n",
    "from statsmodels.tsa.stattools import coint\n",
    "from statsmodels.graphics.tsaplots import plot_acf\n",
    "import statsmodels.api as sm\n",
    "from statsmodels.tsa.stattools import acf\n",
    "from statsmodels.regression.linear_model import OLS\n",
    "from statsmodels.tools.tools import add_constant\n",
    "\n",
    "from collections import deque\n",
    "from bisect import insort, bisect_left\n",
    "from itertools import islice"
   ]
  },
  {
   "cell_type": "code",
   "execution_count": 2,
   "id": "9e6f800e-a8e3-4480-9347-197eeb6e9cf5",
   "metadata": {},
   "outputs": [],
   "source": [
    "def max_drawdown(returns):\n",
    "        local_max = [n for n in range(len(returns)-1) if ((n==0) and (returns[0] > returns[1])) or \n",
    "           ((n > 0) and  (returns[n-1]<returns[n]) and (returns[n+1]<returns[n]))] \n",
    "        \n",
    "        local_min = [n for n in range(1,len(returns)) if ((n == len(returns)-1) and (returns[-1] < returns[-2])) or\n",
    "                (returns[n-1]>returns[n]) and (returns[n+1]>returns[n])]\n",
    "        \n",
    "        def next_local_min(n):\n",
    "            if [m for m in local_min if m > n]:\n",
    "                return [m for m in local_min if m > n][0]\n",
    "            else: return None\n",
    "        \n",
    "        drawdowns = [(n,next_local_min(n)) for n in local_max]\n",
    "        drawdown_values = [returns[n] - returns[m] for (n,m) in drawdowns if m != None]\n",
    "        if drawdown_values:\n",
    "            return  np.max(drawdown_values)\n",
    "        else: return 0.0"
   ]
  },
  {
   "cell_type": "code",
   "execution_count": null,
   "id": "8d45d189-4b0b-4f23-ae89-204a12116e0d",
   "metadata": {},
   "outputs": [],
   "source": [
    "# 1. Pull in list of available ATM puts and calls with 30-day expiry\n",
    "# 2. Compare IV against our calculated IV, generating a new column 'trade' with values -1, 0, 1 depending if we go short, neutral, or long.\n",
    "# 3. Pull in simulation csv based on long/short (think this can be improved, just put it all into 1 CSV after determining \n",
    "    # short/neutral/long in the simulation function\n",
    "# 4. Allocate some amount of capital, let's say we start with 10MM, to each trade based on some kind of confidence calculation \n",
    "    # ([Our IV  - IV] / threshold * max[min[5% of the portfolio, 80% of cash], 100% of cash]) \n",
    "#     threshold = median or some percentile of [Our IV - IV]\n",
    "# 5. Have 'cash' column that starts with 10MM (have it earn interest?)\n",
    "# 6. Calculate 'capital_allocated', options only trade in whole contracts, so round to nearest contract count, multiply by total cost to enter\n",
    "# 7. Keep a 'gross_trading_value' column (of options, shares can be netted at each date) to calculate trading costs in future\n",
    "# 8. 'capital_allocated' column that corresponds with each of the available ATM puts/calls with 30-day expiry, multiply by net value to enter (stock + option)\n",
    "# 9. Multiply unit PnL for each position by 'capital_allocated' to get PnL for that position\n",
    "# 10. Set a drawdown limit (10%? will have to look at data) for PnL of each, determine whether to exit early\n",
    "# 11. Net change in stocks for each date, add this change to 'gross_trading_value'\n",
    "# 12. PnL final"
   ]
  },
  {
   "cell_type": "code",
   "execution_count": null,
   "id": "b1a01005-7289-4935-9d05-5af897ff5728",
   "metadata": {},
   "outputs": [],
   "source": [
    "# 2 dataframes, one with all positions, the other for PnL at each date (have gross trading costs in this one)"
   ]
  },
  {
   "cell_type": "code",
   "execution_count": 4,
   "id": "66d9d910-5a72-40b6-8446-4a2fa604885d",
   "metadata": {},
   "outputs": [],
   "source": [
    "def pos_limit(df):\n",
    "    asdf = 0"
   ]
  },
  {
   "cell_type": "code",
   "execution_count": null,
   "id": "4dcaaa2f-5449-484a-ab89-de9a3edbf1d0",
   "metadata": {},
   "outputs": [],
   "source": []
  },
  {
   "cell_type": "code",
   "execution_count": null,
   "id": "b4a2dbe7-8208-40ba-92a9-a29bd3dce6b5",
   "metadata": {},
   "outputs": [],
   "source": []
  },
  {
   "cell_type": "code",
   "execution_count": null,
   "id": "352c7532-1608-442e-8e35-1b5a08e1776c",
   "metadata": {},
   "outputs": [],
   "source": []
  },
  {
   "cell_type": "code",
   "execution_count": null,
   "id": "c42c7522-e173-4d48-9875-f7d6a4f08d9e",
   "metadata": {},
   "outputs": [],
   "source": []
  }
 ],
 "metadata": {
  "kernelspec": {
   "display_name": "Python 3 (ipykernel)",
   "language": "python",
   "name": "python3"
  },
  "language_info": {
   "codemirror_mode": {
    "name": "ipython",
    "version": 3
   },
   "file_extension": ".py",
   "mimetype": "text/x-python",
   "name": "python",
   "nbconvert_exporter": "python",
   "pygments_lexer": "ipython3",
   "version": "3.9.13"
  }
 },
 "nbformat": 4,
 "nbformat_minor": 5
}
